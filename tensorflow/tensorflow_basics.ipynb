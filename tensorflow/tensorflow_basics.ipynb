{
  "nbformat": 4,
  "nbformat_minor": 0,
  "metadata": {
    "colab": {
      "name": "tensorflow-basics.ipynb",
      "provenance": [],
      "collapsed_sections": [],
      "toc_visible": true
    },
    "kernelspec": {
      "name": "python3",
      "display_name": "Python 3"
    },
    "accelerator": "GPU"
  },
  "cells": [
    {
      "cell_type": "markdown",
      "metadata": {
        "id": "KmSPR7_z6ODP",
        "colab_type": "text"
      },
      "source": [
        "## Basics on TensorFlow - Following [this](https://www.datacamp.com/community/tutorials/tensorflow-tutorial?utm_source=adwords_ppc&utm_campaignid=1455363063&utm_adgroupid=65083631748&utm_device=c&utm_keyword=&utm_matchtype=b&utm_network=g&utm_adpostion=&utm_creative=278443377092&utm_targetid=aud-392016246653:dsa-498578051924&utm_loc_interest_ms=&utm_loc_physical_ms=1001506&gclid=Cj0KCQjwy6T1BRDXARIsAIqCTXrp7johDyP9USqkzhKG1Xwf7Rwn4iAzYk0o-rHe-CaxZpU6UtRfRMIaAlcDEALw_wcB#tensors) DataCamp."
      ]
    },
    {
      "cell_type": "markdown",
      "metadata": {
        "id": "MNmccwE36tTW",
        "colab_type": "text"
      },
      "source": [
        "# First Commands\n",
        "- Sum of arrays"
      ]
    },
    {
      "cell_type": "code",
      "metadata": {
        "id": "3G42ZR0I5uey",
        "colab_type": "code",
        "colab": {
          "base_uri": "https://localhost:8080/",
          "height": 34
        },
        "outputId": "85a1d9c7-5138-4d0e-f088-a8f211fd53a6"
      },
      "source": [
        "# Import `tensorflow`\n",
        "import tensorflow as tf\n",
        "\n",
        "# Initialize two constants\n",
        "x1 = tf.constant([1,2,3,4])\n",
        "x2 = tf.constant([5,6,7,8])\n",
        "\n",
        "# Multiply\n",
        "result = tf.multiply(x1, x2)\n",
        "\n",
        "# Print the result\n",
        "print(result)"
      ],
      "execution_count": 1,
      "outputs": [
        {
          "output_type": "stream",
          "text": [
            "tf.Tensor([ 5 12 21 32], shape=(4,), dtype=int32)\n"
          ],
          "name": "stdout"
        }
      ]
    }
  ]
}