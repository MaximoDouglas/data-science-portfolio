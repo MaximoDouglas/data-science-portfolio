{
  "nbformat": 4,
  "nbformat_minor": 0,
  "metadata": {
    "colab": {
      "name": "train-mask-detection.ipynb",
      "provenance": [],
      "collapsed_sections": [],
      "toc_visible": true
    },
    "kernelspec": {
      "name": "python3",
      "display_name": "Python 3"
    },
    "accelerator": "GPU"
  },
  "cells": [
    {
      "cell_type": "markdown",
      "metadata": {
        "id": "soOetXKz0Jt2",
        "colab_type": "text"
      },
      "source": [
        "## Import dependencies"
      ]
    },
    {
      "cell_type": "code",
      "metadata": {
        "id": "W_IGvnYFz9NM",
        "colab_type": "code",
        "colab": {}
      },
      "source": [
        "# import the necessary packages\n",
        "from tensorflow.keras.preprocessing.image import ImageDataGenerator\n",
        "from tensorflow.keras.applications import MobileNetV2\n",
        "from tensorflow.keras.layers import AveragePooling2D\n",
        "from tensorflow.keras.layers import Dropout\n",
        "from tensorflow.keras.layers import Flatten\n",
        "from tensorflow.keras.layers import Dense\n",
        "from tensorflow.keras.layers import Input\n",
        "from tensorflow.keras.models import Model\n",
        "from tensorflow.keras.optimizers import Adam\n",
        "from tensorflow.keras.applications.mobilenet_v2 import preprocess_input\n",
        "from tensorflow.keras.preprocessing.image import img_to_array\n",
        "from tensorflow.keras.preprocessing.image import load_img\n",
        "from tensorflow.keras.utils import to_categorical\n",
        "from sklearn.preprocessing import LabelBinarizer\n",
        "from sklearn.model_selection import train_test_split\n",
        "from sklearn.metrics import classification_report\n",
        "import matplotlib.pyplot as plt\n",
        "import numpy as np\n",
        "import argparse\n",
        "import os"
      ],
      "execution_count": 0,
      "outputs": []
    },
    {
      "cell_type": "markdown",
      "metadata": {
        "id": "NVYk8-8b2q0C",
        "colab_type": "text"
      },
      "source": [
        "## Setup notebook parameters"
      ]
    },
    {
      "cell_type": "code",
      "metadata": {
        "id": "ddIhdddt2xjW",
        "colab_type": "code",
        "colab": {}
      },
      "source": [
        "# Train parameters\n",
        "INIT_LR = 1e-4\n",
        "EPOCHS  = 20\n",
        "BS      = 32\n",
        "\n",
        "# Data parameters\n",
        "data_path = '/content/drive/My Drive/covid-19/dataset/'"
      ],
      "execution_count": 0,
      "outputs": []
    },
    {
      "cell_type": "markdown",
      "metadata": {
        "id": "Icj9GBio2g74",
        "colab_type": "text"
      },
      "source": [
        "## Load data"
      ]
    },
    {
      "cell_type": "code",
      "metadata": {
        "id": "xk__D0O02j8c",
        "colab_type": "code",
        "colab": {}
      },
      "source": [
        "def load_image_paths():\n",
        "  file_paths_and_labels = []\n",
        "  subfolders            = [x[0] for x in os.walk(data_path)][1:]\n",
        "  \n",
        "  for folder in subfolders:\n",
        "    label = folder.split('/')[-1]\n",
        "    \n",
        "    [file_paths_and_labels.append((folder + '/' + file_name, label)) for file_name in os.listdir(folder)]\n",
        "\n",
        "  return file_paths_and_labels\n",
        "\n",
        "def load_images():\n",
        "  file_paths_and_labels = load_image_paths()\n",
        "  data   = []\n",
        "  labels = []\n",
        "  \n",
        "  total_images = len(file_paths_and_labels)\n",
        "\n",
        "  for i, (image_path, label) in enumerate(file_paths_and_labels):\n",
        "    print(\"Loading images: %.2f%%\" % ((i+1)/total_images))\n",
        "\n",
        "    image = load_img(image_path, target_size=(224, 224))\n",
        "    image = img_to_array(image)\n",
        "    image = preprocess_input(image)\n",
        "\n",
        "    data.append(image)\n",
        "    labels.append(label)\n",
        "  \n",
        "  return data, labels\n",
        "\n",
        "data, labels = load_images()"
      ],
      "execution_count": 0,
      "outputs": []
    }
  ]
}